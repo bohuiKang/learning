{
 "cells": [
  {
   "cell_type": "code",
   "execution_count": null,
   "id": "6e05c17e",
   "metadata": {},
   "outputs": [],
   "source": [
    "# BFS 알고리즘 => 확인 필요\n",
    "\n",
    "def bfs(G, v): # 그래프 G, 탐색 시작점 v\n",
    "    visited = [0]*(n+1) # n: 정점의 개수\n",
    "    queue = [] # 탐색할 목록을 담을 큐\n",
    "    queue.append(v)\n",
    "    while queue: # 큐가 비어있지 않으면\n",
    "        t = queue.pop(0)\n",
    "        if not visited[t]: # 방문되지 않은 곳이면\n",
    "            visited[t] = True # 방문한 것으로 표시\n",
    "            visit(t) # ??? 정점 t에서 할일\n",
    "            for i in visited[i]: \n",
    "                if not visited[i]:\n",
    "                    queue.append(i)"
   ]
  },
  {
   "cell_type": "code",
   "execution_count": null,
   "id": "92abe205",
   "metadata": {},
   "outputs": [
    {
     "name": "stdout",
     "output_type": "stream",
     "text": [
      "1\n",
      "2\n",
      "3\n",
      "4\n",
      "5\n",
      "7\n",
      "6\n"
     ]
    }
   ],
   "source": [
    "\n",
    "# BFS\n",
    "'''\n",
    "7 8\n",
    "4 2 1 2 1 3 5 2 4 6 5 6 6 7 3 7\n",
    "'''\n",
    "\n",
    "def bfs(s, V):  # 시작정점 s, 마지막 정점 V\n",
    "    visited = [0] * (V+1)   # visited 생성\n",
    "    q = []          # 큐 생성\n",
    "    q.append(s)     # 시작점 인큐\n",
    "    visited[s] = 1  # 시작점 방문표시(인큐표시)\n",
    "    while q:        # 큐에 정점이 남아있으면 front != rear\n",
    "        t = q.pop(0)    # 디큐\n",
    "        print(t)        # 방문한 정점에서 할일 visit(), 방문정점 출력\n",
    "        for w in adj_l[t]:  # 인접한 정점 중 인큐되지 않은 정점 w가 있으면\n",
    "            if visited[w]==0:\n",
    "                q.append(w)     # w인큐, 인큐되었음을 표시\n",
    "                visited[w] = visited[t] + 1\n",
    "\n",
    "V, E = map(int, input().split()) # 1번부터 V번 정점, E개의 간선\n",
    "arr = list(map(int, input().split()))\n",
    "\n",
    "# 인접리스트 -------------------------\n",
    "adj_l = [[] for _ in range(V+1)]\n",
    "for i in range(E):\n",
    "    v1, v2 = arr[i*2], arr[i*2+1]\n",
    "    adj_l[v1].append(v2)    # v1과 v2는 서로 연결\n",
    "    adj_l[v2].append(v1)    # 방향이 없는 경우\n",
    "# 여기까지 인접리스트 -----------------\n",
    "\n",
    "bfs(1, 7)"
   ]
  },
  {
   "cell_type": "code",
   "execution_count": null,
   "id": "aed44499",
   "metadata": {},
   "outputs": [
    {
     "ename": "ValueError",
     "evalue": "invalid literal for int() with base 10: '5 7'",
     "output_type": "error",
     "traceback": [
      "\u001b[31m---------------------------------------------------------------------------\u001b[39m",
      "\u001b[31mValueError\u001b[39m                                Traceback (most recent call last)",
      "\u001b[36mCell\u001b[39m\u001b[36m \u001b[39m\u001b[32mIn[3]\u001b[39m\u001b[32m, line 25\u001b[39m\n\u001b[32m     22\u001b[39m                 q.append([wi,wj])\n\u001b[32m     23\u001b[39m                 visited[wi][wj] = visited[ti][tj] + \u001b[32m1\u001b[39m\n\u001b[32m---> \u001b[39m\u001b[32m25\u001b[39m N = \u001b[38;5;28;43mint\u001b[39;49m\u001b[43m(\u001b[49m\u001b[38;5;28;43minput\u001b[39;49m\u001b[43m(\u001b[49m\u001b[43m)\u001b[49m\u001b[43m)\u001b[49m\n\u001b[32m     26\u001b[39m maze = [\u001b[38;5;28mlist\u001b[39m(\u001b[38;5;28mmap\u001b[39m(\u001b[38;5;28mint\u001b[39m, \u001b[38;5;28minput\u001b[39m)()) \u001b[38;5;28;01mfor\u001b[39;00m _ \u001b[38;5;129;01min\u001b[39;00m \u001b[38;5;28mrange\u001b[39m(N)]\n\u001b[32m     28\u001b[39m sti, stj = find_start(N)\n",
      "\u001b[31mValueError\u001b[39m: invalid literal for int() with base 10: '5 7'"
     ]
    }
   ],
   "source": [
    "# DFS\n",
    "\n",
    "\n",
    "# 도착하지 못했을 때를 처리하는 코드는 없다 => 작성 필요\n",
    "def find_start(N):\n",
    "    for i in range(N):\n",
    "        for j in range(N):\n",
    "            if maze[i][j] == 2:\n",
    "                return i, j\n",
    "            \n",
    "def bfs(i, j, N):\n",
    "    visited = [[0] * N for _ in range(N)]\n",
    "    q = [[i, j]]\n",
    "    visited[i][j] = 1\n",
    "    while q:\n",
    "        ti, tj = q.pop(0)\n",
    "        if maze[ti, tj] == 3:\n",
    "            return visited[ti][tj] - 2\n",
    "        for di, dj in [[0,1],[1,0],[0,-1],[-1,0]]:\n",
    "            wi, wj = ti + di, tj + dj\n",
    "            if 0 <= wi < N and 0 <= wj<N and maze[wi][wj] != 1 and visited[wi][wj] == 0: \n",
    "                q.append([wi,wj])\n",
    "                visited[wi][wj] = visited[ti][tj] + 1\n",
    "\n",
    "N = int(input())\n",
    "maze = [list(map(int, input)()) for _ in range(N)]\n",
    "\n",
    "sti, stj = find_start(N)\n",
    "ans = bfs(sti, stj, N)\n",
    "print(ans)"
   ]
  }
 ],
 "metadata": {
  "kernelspec": {
   "display_name": "Python 3",
   "language": "python",
   "name": "python3"
  },
  "language_info": {
   "codemirror_mode": {
    "name": "ipython",
    "version": 3
   },
   "file_extension": ".py",
   "mimetype": "text/x-python",
   "name": "python",
   "nbconvert_exporter": "python",
   "pygments_lexer": "ipython3",
   "version": "3.11.9"
  }
 },
 "nbformat": 4,
 "nbformat_minor": 5
}
