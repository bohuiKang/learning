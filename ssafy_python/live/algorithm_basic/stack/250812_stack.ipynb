{
 "cells": [
  {
   "cell_type": "code",
   "execution_count": null,
   "id": "30baceef",
   "metadata": {},
   "outputs": [
    {
     "name": "stdout",
     "output_type": "stream",
     "text": [
      "3\n",
      "2\n",
      "1\n"
     ]
    }
   ],
   "source": [
    "# stack 의 push와 pop을 append와 pop으로\n",
    "stack = []\n",
    "stack.append(1)\n",
    "stack.append(2)\n",
    "stack.append(3)\n",
    "\n",
    "print(stack.pop())\n",
    "print(stack.pop())\n",
    "print(stack.pop())"
   ]
  },
  {
   "cell_type": "code",
   "execution_count": null,
   "id": "f2eddf30",
   "metadata": {},
   "outputs": [
    {
     "name": "stdout",
     "output_type": "stream",
     "text": [
      "3\n",
      "2\n",
      "1\n",
      "[1, 2, 3, 0, 0, 0, 0, 0, 0, 0]\n"
     ]
    }
   ],
   "source": [
    "# stack\n",
    "stack = [0]*10 # 해당 크기 만큼 저장 가능\n",
    "top = -1 # 스택의 가장 마지막에 저장된 값의 인덱스를 저장하는 변수\n",
    "\n",
    "top += 1    # push\n",
    "stack[top] = 1\n",
    "top += 1\n",
    "stack[top] = 2\n",
    "top += 1\n",
    "stack[top] = 3\n",
    "\n",
    "top -= 1    # pop\n",
    "print(stack[top+1])\n",
    "top -= 1\n",
    "print(stack[top+1])\n",
    "top -= 1\n",
    "print(stack[top+1])\n",
    "print(stack)"
   ]
  },
  {
   "cell_type": "code",
   "execution_count": null,
   "id": "749d5213",
   "metadata": {},
   "outputs": [
    {
     "name": "stdout",
     "output_type": "stream",
     "text": [
      "1\n"
     ]
    }
   ],
   "source": [
    "# 괄호 \n",
    "'''\n",
    "( )( )((( )))\n",
    "((( )((((( )( )((( )( ))((( ))))))\n",
    "())\n",
    "(()\n",
    ")(\n",
    "'''\n",
    "txt = input()\n",
    "\n",
    "stack = [0]*100\n",
    "top = -1\n",
    "\n",
    "ans = 1\n",
    "for x in txt:\n",
    "    if  x == '(':  # 여는 괄호 push\n",
    "        top += 1\n",
    "        stack[top] = x\n",
    "    elif x == ')':  # 닫는 괄호인 경우\n",
    "        if top == -1:   # 스택이 비어있으면, 오류! 여는 괄호 부족\n",
    "            ans = 0\n",
    "            break   \n",
    "        else:   # 여는 괄호 하나 버림\n",
    "            top -= 1    # pop\n",
    "if top != -1:   # 여는 괄호 남아있으면\n",
    "    ans = 0\n",
    "\n",
    "print(ans)"
   ]
  },
  {
   "cell_type": "code",
   "execution_count": null,
   "id": "84c9932c",
   "metadata": {},
   "outputs": [],
   "source": [
    "par = {'(':')', '{':'}', '[':']'}\n",
    "txt = input()\n",
    "\n",
    "top = -1\n",
    "stack = [0] * 100\n",
    "\n",
    "for x in txt:\n",
    "    if x in ['(', '{', '[']:    # 여는 괄호 push\n",
    "        top += 1\n",
    "        stack[top] = x\n",
    "    elif x in ['(', '{', '[']:  # 닫는 괄호인 경우\n",
    "        if top == -1:   # 스택이 비어있으면, (여는 괄호가 없으면)\n",
    "            ans = 0\n",
    "            break\n",
    "        else:   # 짝 검사\n",
    "            top -= 1    # pop\n",
    "            y = stack[top+1]    # \n",
    "            \n",
    "if top != -1:\n",
    "    ans = 0\n",
    "\n",
    "print()\n"
   ]
  },
  {
   "cell_type": "markdown",
   "id": "384ea4f6",
   "metadata": {},
   "source": [
    "### 실습시간"
   ]
  },
  {
   "cell_type": "code",
   "execution_count": null,
   "id": "7d11d512",
   "metadata": {},
   "outputs": [
    {
     "name": "stdout",
     "output_type": "stream",
     "text": [
      "2\n",
      "1\n",
      "0\n"
     ]
    }
   ],
   "source": [
    "# stack\n",
    "# 저장소\n",
    "N = 5   # overflow가 나지 않을 만큼 큰 수로 할당\n",
    "S = [0] * N # 해당 크기 만큼 저장 가능\n",
    "top = -1    # 스택의 가장 마지막에 저장된 값의 인덱스를 저장하는 변수\n",
    "\n",
    "# 연산\n",
    "def push(item):\n",
    "    global top\n",
    "    # overflow 체크 => 인덱스 공간을 벗어나지 않게\n",
    "    if top == N-1:\n",
    "        return 'full'\n",
    "    top += 1\n",
    "    S[top] = item\n",
    "\n",
    "# pop()을 하기 전에 빈 스택인지 체크, pop 안에서 체크X\n",
    "\n",
    "def pop():\n",
    "    global top\n",
    "    # underflow 체크\n",
    "    # if top == -1:\n",
    "    #     return 'empty'\n",
    "    ret = S[top]    # 미리 값 저장\n",
    "    top -= 1\n",
    "\n",
    "    return ret  # S[top + 1]\n",
    "\n",
    "# 함수 사용\n",
    "for val in range(3):\n",
    "    push(val)\n",
    "\n",
    "while top != -1:\n",
    "    print(pop())\n",
    "\n",
    "print(top)\n",
    "\n",
    "# 함수 사용x\n",
    "for val in range(3):\n",
    "    top += 1\n",
    "    S[top] = val\n",
    "\n",
    "while top != -1:\n",
    "    print(S[top])\n",
    "    top -= 1\n",
    "\n",
    "# List의 append, pop\n",
    "S = []\n",
    "for val in range(3):\n",
    "    S.append(val)\n",
    "while S:\n",
    "    print(s.pop())"
   ]
  }
 ],
 "metadata": {
  "kernelspec": {
   "display_name": "Python 3",
   "language": "python",
   "name": "python3"
  },
  "language_info": {
   "codemirror_mode": {
    "name": "ipython",
    "version": 3
   },
   "file_extension": ".py",
   "mimetype": "text/x-python",
   "name": "python",
   "nbconvert_exporter": "python",
   "pygments_lexer": "ipython3",
   "version": "3.11.9"
  }
 },
 "nbformat": 4,
 "nbformat_minor": 5
}
