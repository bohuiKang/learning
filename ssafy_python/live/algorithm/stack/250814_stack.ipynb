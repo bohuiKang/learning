{
 "cells": [
  {
   "cell_type": "code",
   "execution_count": 3,
   "id": "9d7205ca",
   "metadata": {},
   "outputs": [
    {
     "name": "stdout",
     "output_type": "stream",
     "text": [
      " ['(', 0, 0, 0, 0, 0, 0, 0, 0, 0]\n",
      "6 ['(', 0, 0, 0, 0, 0, 0, 0, 0, 0]\n",
      "6 ['(', '+', 0, 0, 0, 0, 0, 0, 0, 0]\n",
      "65 ['(', '+', 0, 0, 0, 0, 0, 0, 0, 0]\n",
      "65 ['(', '+', '*', 0, 0, 0, 0, 0, 0, 0]\n",
      "65 ['(', '+', '*', '(', 0, 0, 0, 0, 0, 0]\n",
      "652 ['(', '+', '*', '(', 0, 0, 0, 0, 0, 0]\n",
      "652 ['(', '+', '*', '(', '-', 0, 0, 0, 0, 0]\n",
      "6528 ['(', '+', '*', '(', '-', 0, 0, 0, 0, 0]\n",
      "6528- ['(', '+', '*', '(', '-', 0, 0, 0, 0, 0]\n",
      "6528-* ['(', '+', '/', '(', '-', 0, 0, 0, 0, 0]\n",
      "6528-*2 ['(', '+', '/', '(', '-', 0, 0, 0, 0, 0]\n",
      "6528-*2/+ ['(', '+', '/', '(', '-', 0, 0, 0, 0, 0]\n"
     ]
    }
   ],
   "source": [
    "'''\n",
    "(6+5*(2-8)/2)\n",
    "6528-*2/+\n",
    "'''\n",
    "stack = [0]*10\n",
    "top = -1\n",
    "\n",
    "icp = {'(':3, '*':2, '/':2, '+':1, '-':1} # 밖에 있을 때의 우선 순위 (클수록 높음)\n",
    "isp = {'(':0, '*':2, '/':2, '+':1, '-':1} # 스택 안에서의 우선 순위 (클수록 높음)\n",
    "\n",
    "infix = '(6+5*(2-8)/2)'\n",
    "postfix = ''\n",
    "\n",
    "for token in infix:\n",
    "    if token not in '(+-*/)':   # 피연산자면 후위식에 추가\n",
    "        postfix += token\n",
    "    elif token == ')':      # 여는 괄호를'(' 만날 때까지 pop()\n",
    "        while top > -1 and stack[top] != '(':    # top이 비거나, 여는 괄호일 때까지 반복\n",
    "            postfix += stack[top]\n",
    "            top -= 1\n",
    "        if top != -1: # 만약 스택이 비어있지 않으면,  (전체 수식이 괄호로 둘러 쌓이지 않은 경우 대비)\n",
    "            top -= 1        # '(' 버림. pop\n",
    "\n",
    "    else:                       # 연산자인 경우, '(+-*/'\n",
    "        if top == -1 or isp[stack[top]] < icp[token]: # 비어있거나, 토큰의 우선순위가 더 높으면\n",
    "            top += 1    # push\n",
    "            stack[top] = token\n",
    "        elif isp[stack[top]] >= icp[token]: # top이 토큰과 같거나 우선순위가 크면\n",
    "            while top > -1 and isp[stack[top]] >= icp[token]: # 스택이 비거나, 우선순위가 낮아질 때까지 반복\n",
    "                postfix += stack[top]\n",
    "                top -= 1\n",
    "            top += 1  # push\n",
    "            stack[top] = token\n",
    "\n",
    "    print(postfix, stack)"
   ]
  },
  {
   "cell_type": "markdown",
   "id": "e97cb571",
   "metadata": {},
   "source": [
    "# 재귀 호출은 기본적으로 반복이다.\n",
    "  분할정복 => 이진탐색\n",
    "  DFS\n",
    "  재귀호출(점화식구현) + 메모이제이션\n",
    "  백트래킹"
   ]
  },
  {
   "cell_type": "code",
   "execution_count": 11,
   "id": "4317397f",
   "metadata": {},
   "outputs": [
    {
     "name": "stdout",
     "output_type": "stream",
     "text": [
      "10000\n",
      "hello! 0\n",
      "hello! 1\n",
      "hello! 2\n",
      "hello! 2\n",
      "hello! 1\n",
      "hello! 0\n",
      "1\n"
     ]
    }
   ],
   "source": [
    "# 재귀 호출은 기본적으로 반복이다.\n",
    "# for i in range(3):\n",
    "#     print('hello!')\n",
    "\n",
    "# 끝나지 않는 함수 호출 => 에러\n",
    "# def print_hello():\n",
    "#     print('hello!')\n",
    "#     print_hello()\n",
    "\n",
    "# print_hello()\n",
    "\n",
    "# 파이썬은 depth 를 조작할 수 있다. (백준에서 사용 가능)\n",
    "import sys\n",
    "print(sys.getrecursionlimit()) # depth를 확인 가능 => 원래 3000\n",
    "sys.setrecursionlimit(10000) # depth 제한을 변경\n",
    "\n",
    "# 함수를 실행하기 위한 정보를 저장하는 메모리 공간이 생기는데 \n",
    "# 스택 사이즈가 정해져있기 때문에 함수 호출이 계속 늘어지면 stack overflow가 발생되서 뻗어버린다.\n",
    "\n",
    "\n",
    "# 비교를 통해 재귀호출을 끝낼지 할지 판단하는 기준이 필요\n",
    "# 바깥에서 주어지는 값으로 판단 => 매개변수로 판단\n",
    "cnt = 0\n",
    "def print_hello(i, n):\n",
    "    # if i < 3:\n",
    "    #     print('hello!')\n",
    "    #     print_hello(i + 1)\n",
    "\n",
    "    if i == n:\n",
    "        global cnt\n",
    "        cnt += 1\n",
    "        return\n",
    "    else:\n",
    "        print('hello!', i)\n",
    "        print_hello(i + 1, n) # 함수가 호출될 때마다 구조는 같지만 다른 함수를 호출한다.\n",
    "        print('hello!', i)\n",
    "\n",
    "print_hello(0, 3)\n",
    "print(cnt)"
   ]
  },
  {
   "cell_type": "code",
   "execution_count": 14,
   "id": "c183c6c0",
   "metadata": {},
   "outputs": [
    {
     "name": "stdout",
     "output_type": "stream",
     "text": [
      "8\n"
     ]
    }
   ],
   "source": [
    "cnt = 0\n",
    "def print_hello(i, n):\n",
    "\n",
    "    if i == n:\n",
    "        global cnt\n",
    "        cnt += 1\n",
    "        return\n",
    "    else:\n",
    "        print_hello(i + 1, n)\n",
    "        print_hello(i + 1, n)\n",
    "\n",
    "print_hello(0, 3)\n",
    "print(cnt)"
   ]
  },
  {
   "cell_type": "code",
   "execution_count": null,
   "id": "5d91a77e",
   "metadata": {},
   "outputs": [],
   "source": [
    "# 깊이우선탐색을 재귀호출로 구현\n",
    "\n",
    "\n",
    "\n"
   ]
  }
 ],
 "metadata": {
  "kernelspec": {
   "display_name": "Python 3",
   "language": "python",
   "name": "python3"
  },
  "language_info": {
   "codemirror_mode": {
    "name": "ipython",
    "version": 3
   },
   "file_extension": ".py",
   "mimetype": "text/x-python",
   "name": "python",
   "nbconvert_exporter": "python",
   "pygments_lexer": "ipython3",
   "version": "3.11.9"
  }
 },
 "nbformat": 4,
 "nbformat_minor": 5
}
