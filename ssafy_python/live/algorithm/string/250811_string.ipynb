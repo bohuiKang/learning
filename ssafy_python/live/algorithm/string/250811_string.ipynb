{
 "cells": [
  {
   "cell_type": "code",
   "execution_count": 5,
   "id": "a9b1db47",
   "metadata": {},
   "outputs": [
    {
     "name": "stdout",
     "output_type": "stream",
     "text": [
      "5\n"
     ]
    }
   ],
   "source": [
    "'''\n",
    "t => 0 ~ N-1\n",
    "p => 0 1 2\n",
    "'''\n",
    "t = 'aabdbabcbaddd'\n",
    "p = 'abc'\n",
    "\n",
    "def brute_force(p, t):\n",
    "    N = len(t)\n",
    "    M = len(p)\n",
    "    \n",
    "    for i in range(N-M+1):      # t에서 패턴을 비교할 시작 위치 인덱스\n",
    "        for j in range(M):           # p에서 비교할 위치 인덱스\n",
    "            if t[i+j] != p[j]:  # 불일치하면 다음 i로\n",
    "                break\n",
    "        else:                   # break에 걸리지 않고 for가 끝난경우 실행\n",
    "            return i            # 찾았을 때 => 패턴이 처음 나타난 인덱스 리턴\n",
    "    return -1                   # 못 찾았을 때\n",
    "print(brute_force(p, t))\n"
   ]
  },
  {
   "cell_type": "code",
   "execution_count": null,
   "id": "3757d2e7",
   "metadata": {},
   "outputs": [
    {
     "name": "stdout",
     "output_type": "stream",
     "text": [
      "1 --> [2, 3]\n",
      "2 --> [1, 4, 5]\n",
      "3 --> [1, 7]\n",
      "4 --> [2, 6]\n",
      "5 --> [2, 6]\n",
      "6 --> [4, 5, 7]\n",
      "7 --> [6, 3]\n"
     ]
    }
   ],
   "source": [
    "# 인접리스트(무향 그래프)\n",
    "'''\n",
    "7 8\n",
    "1 2 1 3 2 4 2 5 4 6 5 6 6 7 3 7\n",
    "'''\n",
    "\n",
    "V, E = map(int, input().split())\n",
    "arr = list(map(int, input().split()))\n",
    "\n",
    "# G = [[0] * (V + 1) for _ in range(V + 1)] # 인접 행렬\n",
    "G = [[] for _ in range(V + 1)] # 인접 리스트\n",
    "\n",
    "for i in range(0, E*2, 2):\n",
    "    # arr[i], arr[i+1]\n",
    "    u, v = arr[i], arr[i+1] # 임의의 정점 변수명: u v w 자주 쓴다. \n",
    "    # 무향그래프이니까 양쪽으로 저장\n",
    "    G[u].append(v)\n",
    "    G[v].append(u)\n",
    "    \n",
    "for i in range(1, V + 1):\n",
    "    print(i, '-->', G[i])"
   ]
  },
  {
   "cell_type": "markdown",
   "id": "322132cf",
   "metadata": {},
   "source": [
    "DFS를 위한 준비\n",
    "1.그래프: G, 2.스택: S, 3.visited(방문정보, 정점의 개수만큼)\n",
    "\n",
    "1. 시작 정점 v를 결정하여 방문한다.\n",
    "\n",
    "2. 정점 v에 인접한 정점 중에서 방문하지 않은 정점 w가 있으면,\n",
    "    2.1) 정점 v를 스택에 push하고 정점 w를 방문한다.\n",
    "    그리고 w를 v로 하여 다시 2 를 반복한다.\n",
    "    \n",
    "    2.2) 방문하지 않은 정점이 없으면, 탐색의 방향을\n",
    "    바꾸기 위해서 스택을 pop하여 받은 가장 마지막\n",
    "    방문 정점을 v로 하여 다시 2 를 반복한다.\n",
    "    \n",
    "3. 스택이 공백이 될 때까지 2 를 반복한다."
   ]
  },
  {
   "cell_type": "code",
   "execution_count": null,
   "id": "b89293fe",
   "metadata": {},
   "outputs": [],
   "source": [
    "S = []\n",
    "visited = [0] * (V + 1) # 정점의 개수만큼\n",
    "\n",
    "v = 1 # 현재 위치한 정점, 마지막에 돌아올 정점\n",
    "S.append(v) # while문을 시작하기 위해 아무 번호나 넣고 시작\n",
    "            # while문을 True로 진행해도 된다.\n",
    "visited[v] = 1\n",
    "\n",
    "# 빈 스택이 아니면\n",
    "while S: # 뭔가 있으면 True\n",
    "    for w in G[v]: # v 정점의 인접 정점 중에서\n",
    "        if not visited[w]:\n",
    "            S.append(v)\n",
    "            visited[w] = 1\n",
    "            v = w\n",
    "            break\n",
    "    else: # 방문하는 정점이 없으면, 탐색 방향을 바꾸기 위해 stack을 pop\n",
    "        v = S.pop()"
   ]
  },
  {
   "cell_type": "code",
   "execution_count": 9,
   "id": "02f393e3",
   "metadata": {},
   "outputs": [
    {
     "name": "stdout",
     "output_type": "stream",
     "text": [
      "2 4 6 5 7 3 "
     ]
    }
   ],
   "source": [
    "V, E = map(int, input().split())\n",
    "arr = list(map(int, input().split()))\n",
    "\n",
    "# G = [[0] * (V + 1) for _ in range(V + 1)]\n",
    "G = [[] for _ in range(V + 1)] # 인접 리스트\n",
    "\n",
    "for i in range(0, E*2, 2):\n",
    "    # arr[i], arr[i+1]\n",
    "    u, v = arr[i], arr[i+1]\n",
    "    G[u].append(v)\n",
    "    G[v].append(u)\n",
    "\n",
    "# DFS(반복)를 위한 준비\n",
    "# 1. 그래프: G, 2. 스택: S, 3. visited(방문정보)\n",
    "S = []\n",
    "visited = [0] * (V + 1)\n",
    "\n",
    "# 1. 시작 정점 v를 결정하여 방문한다.\n",
    "v = 1 # 현재 위치한 정점\n",
    "S.append(v)\n",
    "visited[v] = 1\n",
    "# 빈 스택이 아니면\n",
    "while S:\n",
    "    # 정점 v에 인접한 정점 중에서 방문하지 않은 정점 w가 있으면,\n",
    "    for w in G[v]:\n",
    "        if not visited[w]:\n",
    "            # v ---> w\n",
    "            # 정점 v를 스택에 push하고 정점 w를 방문한다.\n",
    "            # 그리고 w를 v로 하여 다시 2 를 반복한다.\n",
    "            S.append(v)\n",
    "            visited[w] = 1; print(w, end=' ')\n",
    "            v = w\n",
    "            break\n",
    "    else: # 방문하지 않은 정점이 없으면, 탐색의 방향을\n",
    "        # 바꾸기 위해서 스택을 pop하여 받은 가장 마지막\n",
    "        # 방문 정점을 v로 하여 반복한다.\n",
    "        v = S.pop()"
   ]
  }
 ],
 "metadata": {
  "kernelspec": {
   "display_name": "Python 3",
   "language": "python",
   "name": "python3"
  },
  "language_info": {
   "codemirror_mode": {
    "name": "ipython",
    "version": 3
   },
   "file_extension": ".py",
   "mimetype": "text/x-python",
   "name": "python",
   "nbconvert_exporter": "python",
   "pygments_lexer": "ipython3",
   "version": "3.11.9"
  }
 },
 "nbformat": 4,
 "nbformat_minor": 5
}
