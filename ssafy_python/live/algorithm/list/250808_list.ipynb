{
 "cells": [
  {
   "cell_type": "code",
   "execution_count": 8,
   "id": "168d9852",
   "metadata": {},
   "outputs": [
    {
     "name": "stdout",
     "output_type": "stream",
     "text": [
      "[5, 3, 2, 6, 1, 4]\n",
      "[1, 3, 2, 6, 5, 4]\n",
      "[1, 2, 3, 6, 5, 4]\n",
      "[1, 2, 3, 6, 5, 4]\n",
      "[1, 2, 3, 6, 5, 4]\n",
      "[1, 2, 3, 6, 5, 4]\n",
      "[1, 2, 3, 4, 5, 6]\n",
      "[1, 2, 3, 4, 5, 6]\n"
     ]
    }
   ],
   "source": [
    "# k selection algorithm\n",
    "\n",
    "arr = [5, 3, 2, 6, 1, 4]\n",
    "N = len(arr)\n",
    "print(arr)\n",
    "\n",
    "# 범위 0 => N-1\n",
    "idx = 0 # 최소값의 위치\n",
    "for j in range(1, N):\n",
    "    if arr[idx] > arr[j]:\n",
    "        idx = j\n",
    "arr[0], arr[idx] = arr[idx], arr[0]\n",
    "print(arr)\n",
    "\n",
    "# 범위 1 => N-1\n",
    "idx = 1 # 최소값의 위치\n",
    "for j in range(2, N):\n",
    "    if arr[idx] > arr[j]:\n",
    "        idx = j\n",
    "arr[1], arr[idx] = arr[idx], arr[1]\n",
    "print(arr)\n",
    "\n",
    "# 범위 0 => N-1\n",
    "for i in range(0, N - 1):\n",
    "    idx = i # 최소값의 위치\n",
    "    for j in range(i+1, N):\n",
    "        if arr[idx] > arr[j]:\n",
    "            idx = j\n",
    "    arr[i], arr[idx] = arr[idx], arr[i]\n",
    "    print(arr)\n"
   ]
  },
  {
   "cell_type": "code",
   "execution_count": 10,
   "id": "624d93d1",
   "metadata": {},
   "outputs": [
    {
     "name": "stdout",
     "output_type": "stream",
     "text": [
      "8\n"
     ]
    }
   ],
   "source": [
    "# 이진탐색의 필수조건 => 정렬된 상태여야 한다. \n",
    "\n",
    "arr = [8, 11, 16, 28, 39, 49, 60, 67, 85, 89]\n",
    "N = len(arr)\n",
    "\n",
    "def binary_search(l, r, key):\n",
    "    \n",
    "    while l <= r: # l=r 일 때도 검색\n",
    "        mid = (l + r) // 2 # 범위의 중간 위치 인덱스 계산\n",
    "        if key == arr[mid]:\n",
    "            return mid\n",
    "        elif key < arr[mid]:\n",
    "            r = mid -1\n",
    "        else:\n",
    "            l = mid +1\n",
    "    # 탐색 실패\n",
    "    return -1\n",
    "\n",
    "\n",
    "print(binary_search(0, N-1, 85))\n",
    "# 내가 찾을 키값의 크기를 문제의 범위로 보낟\n"
   ]
  },
  {
   "cell_type": "code",
   "execution_count": null,
   "id": "6c0dd702",
   "metadata": {},
   "outputs": [],
   "source": []
  }
 ],
 "metadata": {
  "kernelspec": {
   "display_name": "Python 3",
   "language": "python",
   "name": "python3"
  },
  "language_info": {
   "codemirror_mode": {
    "name": "ipython",
    "version": 3
   },
   "file_extension": ".py",
   "mimetype": "text/x-python",
   "name": "python",
   "nbconvert_exporter": "python",
   "pygments_lexer": "ipython3",
   "version": "3.11.9"
  }
 },
 "nbformat": 4,
 "nbformat_minor": 5
}
