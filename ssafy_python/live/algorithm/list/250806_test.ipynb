{
 "cells": [
  {
   "cell_type": "code",
   "execution_count": 1,
   "id": "13e94f0a",
   "metadata": {},
   "outputs": [
    {
     "ename": "NameError",
     "evalue": "name 'n' is not defined",
     "output_type": "error",
     "traceback": [
      "\u001b[31m---------------------------------------------------------------------------\u001b[39m",
      "\u001b[31mNameError\u001b[39m                                 Traceback (most recent call last)",
      "\u001b[36mCell\u001b[39m\u001b[36m \u001b[39m\u001b[32mIn[1]\u001b[39m\u001b[32m, line 2\u001b[39m\n\u001b[32m      1\u001b[39m \u001b[38;5;66;03m# 지그재그 순회\u001b[39;00m\n\u001b[32m----> \u001b[39m\u001b[32m2\u001b[39m \u001b[38;5;28;01mfor\u001b[39;00m i \u001b[38;5;129;01min\u001b[39;00m \u001b[38;5;28mrange\u001b[39m(\u001b[43mn\u001b[49m):\n\u001b[32m      3\u001b[39m   \u001b[38;5;28;01mfor\u001b[39;00m j \u001b[38;5;129;01min\u001b[39;00m \u001b[38;5;28mrange\u001b[39m(m):\n\u001b[32m      4\u001b[39m     f(array[i][j + (m-\u001b[32m1\u001b[39m-\u001b[32m2\u001b[39m*j) * (i%\u001b[32m2\u001b[39m)])\n",
      "\u001b[31mNameError\u001b[39m: name 'n' is not defined"
     ]
    }
   ],
   "source": [
    "# 지그재그 순회\n",
    "for i in range(n):\n",
    "  for j in range(m):\n",
    "    f(array[i][j + (m-1-2*j) * (i%2)])"
   ]
  },
  {
   "cell_type": "code",
   "execution_count": null,
   "id": "df56c584",
   "metadata": {},
   "outputs": [
    {
     "ename": "NameError",
     "evalue": "name 'i' is not defined",
     "output_type": "error",
     "traceback": [
      "\u001b[31m---------------------------------------------------------------------------\u001b[39m",
      "\u001b[31mNameError\u001b[39m                                 Traceback (most recent call last)",
      "\u001b[36mCell\u001b[39m\u001b[36m \u001b[39m\u001b[32mIn[2]\u001b[39m\u001b[32m, line 5\u001b[39m\n\u001b[32m      2\u001b[39m dj = [\u001b[32m1\u001b[39m, \u001b[32m0\u001b[39m, -\u001b[32m1\u001b[39m, \u001b[32m0\u001b[39m]\n\u001b[32m      4\u001b[39m \u001b[38;5;28;01mfor\u001b[39;00m k \u001b[38;5;129;01min\u001b[39;00m \u001b[38;5;28mrange\u001b[39m(\u001b[32m4\u001b[39m):\n\u001b[32m----> \u001b[39m\u001b[32m5\u001b[39m     ni = \u001b[43mi\u001b[49m + di[k]\n\u001b[32m      6\u001b[39m     nj = j + di[k]\n",
      "\u001b[31mNameError\u001b[39m: name 'i' is not defined"
     ]
    }
   ],
   "source": [
    "# 상하좌우 값\n",
    "di = [0, 1, 0, -1]\n",
    "dj = [1, 0, -1, 0]\n",
    "\n",
    "for d in range(4):\n",
    "    ni = i + di[d]\n",
    "    nj = j + di[d]"
   ]
  },
  {
   "cell_type": "code",
   "execution_count": 35,
   "id": "4f41dceb",
   "metadata": {},
   "outputs": [
    {
     "ename": "TypeError",
     "evalue": "'<' not supported between instances of 'int' and 'str'",
     "output_type": "error",
     "traceback": [
      "\u001b[31m---------------------------------------------------------------------------\u001b[39m",
      "\u001b[31mTypeError\u001b[39m                                 Traceback (most recent call last)",
      "\u001b[36mCell\u001b[39m\u001b[36m \u001b[39m\u001b[32mIn[35]\u001b[39m\u001b[32m, line 11\u001b[39m\n\u001b[32m      9\u001b[39m         \u001b[38;5;28;01mif\u001b[39;00m \u001b[32m0\u001b[39m<=ni<N \u001b[38;5;129;01mand\u001b[39;00m \u001b[32m0\u001b[39m<=nj<N:\n\u001b[32m     10\u001b[39m             s += arr[ni][nj]\n\u001b[32m---> \u001b[39m\u001b[32m11\u001b[39m \u001b[38;5;28;01mif\u001b[39;00m \u001b[43mmax_v\u001b[49m\u001b[43m \u001b[49m\u001b[43m<\u001b[49m\u001b[43m \u001b[49m\u001b[43ms\u001b[49m:\n\u001b[32m     12\u001b[39m     max_v = s\n",
      "\u001b[31mTypeError\u001b[39m: '<' not supported between instances of 'int' and 'str'"
     ]
    }
   ],
   "source": [
    "# 상하좌우 2칸 값\n",
    "max_v = 0\n",
    "for i in range(N):\n",
    "    for j in range(N):\n",
    "        s = arr[i][j]\n",
    "        for di, dj in [[0,1],[1,0],[0,-1],[-1,0]]:\n",
    "            for c in range(1, k+1): # k는 k칸\n",
    "                ni, nj = i+di*c, j+dj*c # 1+0*1\n",
    "                if 0<=ni<N and 0<=nj<N:\n",
    "                    s += arr[ni][nj]\n",
    "        if max_v < s:\n",
    "            max_v = s"
   ]
  },
  {
   "cell_type": "code",
   "execution_count": null,
   "id": "665d2213",
   "metadata": {},
   "outputs": [],
   "source": [
    "# 순회"
   ]
  },
  {
   "cell_type": "code",
   "execution_count": null,
   "id": "d7404a33",
   "metadata": {},
   "outputs": [
    {
     "name": "stdout",
     "output_type": "stream",
     "text": [
      "5 2 3 4 5\n",
      "10 9 8 7 6\n",
      "15 12 13 14 15\n",
      "20 19 18 17 16\n",
      "25 22 23 24 25\n"
     ]
    }
   ],
   "source": [
    "N = 5\n",
    "# 0으로 채워진 NxN 배열을 생성\n",
    "arr = [[0] * N for _ in range(N)] # list comprehension\n",
    "\n",
    "# 행우선 순회\n",
    "cnt = 1\n",
    "for r in range(N): # 행 row\n",
    "    for c in range(N): # 열 column\n",
    "        arr[r][c] = cnt # r 값 고정\n",
    "        cnt += 1\n",
    "        \n",
    "# 열우선 순회\n",
    "cnt = 1\n",
    "for c in range(N): # 열 column\n",
    "    for r in range(N): # 행 row\n",
    "        arr[r][c] = cnt # c 값 고정\n",
    "        cnt += 1\n",
    "\n",
    "# 지그재그 순회_1\n",
    "cnt = 1\n",
    "for r in range(N):\n",
    "    if r % 2 == 0:\n",
    "        for c in range(N):\n",
    "            arr[r][c] = cnt\n",
    "            cnt += 1\n",
    "    else:\n",
    "        for c in range(N-1, -1, -1):\n",
    "            arr[r][c] = cnt\n",
    "            cnt += 1\n",
    "\n",
    "# 지그재그 순회_2\n",
    "cnt = 1\n",
    "for r in range(N):\n",
    "    for c in range(N):\n",
    "        arr[r][c -1-1*r  * r%2] = cnt\n",
    "        cnt += 1\n",
    "\n",
    "for row in arr:\n",
    "    print(*row)\n",
    "\n",
    "\n",
    "    "
   ]
  },
  {
   "cell_type": "code",
   "execution_count": 16,
   "id": "f480ae20",
   "metadata": {},
   "outputs": [
    {
     "name": "stdout",
     "output_type": "stream",
     "text": [
      "1 0 0 0 2\n",
      "0 1 0 2 0\n",
      "0 0 3 0 0\n",
      "0 2 0 1 0\n",
      "2 0 0 0 1\n"
     ]
    }
   ],
   "source": [
    "N = 5\n",
    "# 0으로 채워진 NxN 배열을 생성\n",
    "arr = [[0] * N for _ in range(N)] # list comprehension\n",
    "\n",
    "# 대각선 (왼쪽 위, 오른쪽 아래)\n",
    "for r in range(N):\n",
    "    arr[r][r] = 1\n",
    "\n",
    "# 대각선 (오른쪽 위, 왼쪽 아래)\n",
    "for r in range(N):\n",
    "    arr[r][N-1 - r] = 2\n",
    "\n",
    "# 중복 갑 제거 (대각선 사이의 겹치는 부분)\n",
    "if N%2 == 1:\n",
    "    arr[N//2][N//2] = 3\n",
    "\n",
    "for row in arr:\n",
    "    print(*row)"
   ]
  },
  {
   "cell_type": "code",
   "execution_count": 26,
   "id": "86814daa",
   "metadata": {},
   "outputs": [
    {
     "name": "stdout",
     "output_type": "stream",
     "text": [
      "2 3 3 3 3 3\n",
      "1 2 3 3 3 3\n",
      "1 1 2 3 3 3\n",
      "1 1 1 2 3 3\n",
      "1 1 1 1 2 3\n",
      "1 1 1 1 1 2\n"
     ]
    }
   ],
   "source": [
    "N = 6\n",
    "# 0으로 채워진 NxN 배열을 생성\n",
    "arr = [[0] * N for _ in range(N)] # list comprehension\n",
    "\n",
    "# 대각선을 기준으로 숫자를 변경\n",
    "for r in range(N):\n",
    "    for c in range(N):\n",
    "        if c <= r:\n",
    "            arr[r][c]  = 1\n",
    "\n",
    "for r in range(N):\n",
    "    for c in range(0, r + 1):\n",
    "        arr[r][c]  = 2\n",
    "\n",
    "for r in range(N):\n",
    "    for c in range(0, r):\n",
    "        arr[r][c]  = 1\n",
    "\n",
    "for r in range(N):\n",
    "    for c in range(r + 1, N):\n",
    "        arr[r][c]  = 3\n",
    "\n",
    "for row in arr:\n",
    "    print(*row)"
   ]
  },
  {
   "cell_type": "code",
   "execution_count": 32,
   "id": "35406892",
   "metadata": {},
   "outputs": [
    {
     "name": "stdout",
     "output_type": "stream",
     "text": [
      "0 0 0 0 0 0 0\n",
      "0 0 0 0 0 0 0\n",
      "0 * * * * * 0\n",
      "0 * * * * * 0\n",
      "0 * * * * * 0\n",
      "0 0 0 0 0 0 0\n",
      "0 0 0 0 0 0 0\n"
     ]
    }
   ],
   "source": [
    "N = 7\n",
    "# 0으로 채워진 NxN 배열을 생성\n",
    "arr = [[0] * N for _ in range(N)] # list comprehension\n",
    "\n",
    "# 배열 안에 일부분을 변경하기\n",
    "\n",
    "# 1. 좌상단, 우하단 좌표를 안다.\n",
    "r1, c1 = 2, 1 # 좌상단\n",
    "r2, c2 = 4, 5 # 우하단\n",
    "\n",
    "for r in range(r1, r2+1):\n",
    "    for c in range(c1, c2+1):\n",
    "        arr[r][c] = 1\n",
    "\n",
    "# 2. 좌상단, 높이, 너비\n",
    "r1, c1 = 2, 1\n",
    "h, w = 3, 5\n",
    "\n",
    "for r in range(r1, r1 + h):\n",
    "    for c in range(c1, c1 + w):\n",
    "        arr[r][c] = '*'\n",
    "\n",
    "\n",
    "for row in arr:\n",
    "    print(*row)"
   ]
  },
  {
   "cell_type": "code",
   "execution_count": 36,
   "id": "c3b1405a",
   "metadata": {},
   "outputs": [],
   "source": [
    "# 델타"
   ]
  },
  {
   "cell_type": "code",
   "execution_count": 40,
   "id": "fb48013b",
   "metadata": {},
   "outputs": [
    {
     "name": "stdout",
     "output_type": "stream",
     "text": [
      "0 0 0 0 0 0 0\n",
      "0 0 0 4 0 0 0\n",
      "0 0 3 * 1 0 0\n",
      "0 0 0 2 0 0 0\n",
      "0 0 0 0 0 0 0\n",
      "0 0 0 0 0 0 0\n",
      "0 0 0 0 0 0 0\n"
     ]
    }
   ],
   "source": [
    "N = 7\n",
    "# 0으로 채워진 NxN 배열을 생성\n",
    "arr = [[0] * N for _ in range(N)] \n",
    "\n",
    "# 기준점 r, c\n",
    "r, c = 2, 3\n",
    "arr[r][c] = '*'\n",
    "\n",
    "# 기준점으로부터 4개의 좌표를 생성\n",
    "'''arr[r + 0][c + 1] = 1 # 오른쪽 \n",
    "arr[r + 1][c + 0] = 2 # 아래\n",
    "arr[r + 0][c - 1] = 3 # 왼쪽\n",
    "arr[r - 1][c + 0] = 4 # 위'''\n",
    "\n",
    "dr = [0, 1, 0, -1]\n",
    "dc = [1, 0, -1, 0]\n",
    "\n",
    "# 좌표를 저장할 임시변수\n",
    "for i in range(4):\n",
    "    nr = r + dr[i]\n",
    "    nc = c + dc[i]\n",
    "    arr[nr][nc] = i + 1\n",
    "\n",
    "\n",
    "for row in arr:\n",
    "    print(*row)"
   ]
  },
  {
   "cell_type": "code",
   "execution_count": 44,
   "id": "26feb7f3",
   "metadata": {},
   "outputs": [
    {
     "name": "stdout",
     "output_type": "stream",
     "text": [
      "0 0 0 0 0 3 *\n",
      "0 0 0 0 0 0 2\n",
      "0 0 0 0 0 0 0\n",
      "0 0 0 0 0 0 0\n",
      "0 0 0 0 0 0 0\n",
      "0 0 0 0 0 0 0\n",
      "0 0 0 0 0 0 0\n"
     ]
    }
   ],
   "source": [
    "N = 7\n",
    "# 0으로 채워진 NxN 배열을 생성\n",
    "arr = [[0] * N for _ in range(N)] \n",
    "\n",
    "# 기준점 r, c이 (0, 6) 일 때,\n",
    "r, c = 0, 6\n",
    "arr[r][c] = '*'\n",
    "\n",
    "dr = [0, 1, 0, -1]\n",
    "dc = [1, 0, -1, 0]\n",
    "\n",
    "# 좌표를 저장할 임시변수\n",
    "for i in range(4):\n",
    "    nr = r + dr[i]\n",
    "    nc = c + dc[i]\n",
    "    # 좌표를 생성하면 반드시 유효한 값인지 검사\n",
    "    if 0 <= nr < N and 0 <= nc < N:\n",
    "        arr[nr][nc] = i + 1\n",
    "\n",
    "for row in arr:\n",
    "    print(*row)"
   ]
  },
  {
   "cell_type": "code",
   "execution_count": 45,
   "id": "3e91e931",
   "metadata": {},
   "outputs": [
    {
     "name": "stdout",
     "output_type": "stream",
     "text": [
      "4 4 4 4 4 4 4\n",
      "4 4 4 4 4 4 4\n",
      "4 4 4 4 4 4 4\n",
      "4 4 4 4 4 4 4\n",
      "4 4 4 4 4 4 4\n",
      "4 4 4 4 4 4 4\n",
      "3 3 3 3 3 3 1\n"
     ]
    }
   ],
   "source": [
    "N = 7\n",
    "# 0으로 채워진 NxN 배열을 생성\n",
    "arr = [[0] * N for _ in range(N)] \n",
    "\n",
    "dr = [0, 1, 0, -1]\n",
    "dc = [1, 0, -1, 0]\n",
    "\n",
    "# 모든 기준점 r, c에 대해서\n",
    "for r in range(N):\n",
    "    for c in range(N):\n",
    "        # 기준점(r, c)\n",
    "        for i in range(4):\n",
    "            nr = r + dr[i]\n",
    "            nc = c + dc[i]\n",
    "            # 좌표를 생성하면 반드시 유효한 값인지 검사\n",
    "            if 0 <= nr < N and 0 <= nc < N:\n",
    "                arr[nr][nc] = i + 1\n",
    "\n",
    "for row in arr:\n",
    "    print(*row)"
   ]
  },
  {
   "cell_type": "code",
   "execution_count": 50,
   "id": "2184b5d9",
   "metadata": {},
   "outputs": [
    {
     "name": "stdout",
     "output_type": "stream",
     "text": [
      "0 0 1 0 0 0 0\n",
      "0 0 1 0 0 0 0\n",
      "0 0 1 0 0 0 0\n",
      "1 1 * 1 1 1 1\n",
      "0 0 1 0 0 0 0\n",
      "0 0 1 0 0 0 0\n",
      "0 0 1 0 0 0 0\n"
     ]
    }
   ],
   "source": [
    "dr = [0, 1, 0, -1]\n",
    "dc = [1, 0, -1, 0]\n",
    "\n",
    "N = 7\n",
    "# 0으로 채워진 NxN 배열을 생성\n",
    "arr = [[0] * N for _ in range(N)] \n",
    "\n",
    "r, c = 3, 2\n",
    "arr[r][c] = '*'\n",
    "\n",
    "# dir => direction\n",
    "for dir in range(4): \n",
    "    for i in range(1, N): # 1 ~ N-1칸 까지 이동가능\n",
    "        # arr[r][i] = 1\n",
    "        nr = r + dr[dir]*i\n",
    "        nc = c + dc[dir]*i\n",
    "        # if 0 <= nr < N and 0 <= nc < N:\n",
    "        if nr < 0 or nr >= N or nc < 0 or nc >= N:\n",
    "            break\n",
    "        arr[nr][nc] = 1\n",
    "\n",
    "for row in arr:\n",
    "    print(*row)"
   ]
  },
  {
   "cell_type": "code",
   "execution_count": 52,
   "id": "b1d5e22e",
   "metadata": {},
   "outputs": [
    {
     "name": "stdout",
     "output_type": "stream",
     "text": [
      "0 0 0 0 0 1 0\n",
      "1 0 0 0 1 0 0\n",
      "0 1 0 1 0 0 0\n",
      "0 0 * 0 0 0 0\n",
      "0 1 0 1 0 0 0\n",
      "1 0 0 0 1 0 0\n",
      "0 0 0 0 0 1 0\n"
     ]
    }
   ],
   "source": [
    "# 대각선\n",
    "\n",
    "dr = [-1, -1, 1, 1]\n",
    "dc = [-1, 1, -1, 1]\n",
    "\n",
    "N = 7\n",
    "# 0으로 채워진 NxN 배열을 생성\n",
    "arr = [[0] * N for _ in range(N)] \n",
    "\n",
    "r, c = 3, 2\n",
    "arr[r][c] = '*'\n",
    "\n",
    "# dir => direction\n",
    "for dir in range(4): \n",
    "    for i in range(1, N): # 1 ~ N-1칸 까지 이동가능\n",
    "        # arr[r][i] = 1\n",
    "        nr = r + dr[dir]*i\n",
    "        nc = c + dc[dir]*i\n",
    "        # if 0 <= nr < N and 0 <= nc < N:\n",
    "        if nr < 0 or nr >= N or nc < 0 or nc >= N:\n",
    "            break\n",
    "        arr[nr][nc] = 1\n",
    "\n",
    "for row in arr:\n",
    "    print(*row)"
   ]
  },
  {
   "cell_type": "code",
   "execution_count": 59,
   "id": "13914b11",
   "metadata": {},
   "outputs": [
    {
     "name": "stdout",
     "output_type": "stream",
     "text": [
      "1 1 1 1 1\n",
      "1 1 1 1 1\n",
      "1 1 1 1 1\n",
      "1 1 1 1 1\n",
      "1 1 1 1 1\n",
      "----------\n"
     ]
    },
    {
     "ename": "IndexError",
     "evalue": "list assignment index out of range",
     "output_type": "error",
     "traceback": [
      "\u001b[31m---------------------------------------------------------------------------\u001b[39m",
      "\u001b[31mIndexError\u001b[39m                                Traceback (most recent call last)",
      "\u001b[36mCell\u001b[39m\u001b[36m \u001b[39m\u001b[32mIn[59]\u001b[39m\u001b[32m, line 20\u001b[39m\n\u001b[32m     18\u001b[39m         \u001b[38;5;28;01mfor\u001b[39;00m r \u001b[38;5;129;01min\u001b[39;00m \u001b[38;5;28mrange\u001b[39m(r1, r1 + M):\n\u001b[32m     19\u001b[39m             \u001b[38;5;28;01mfor\u001b[39;00m c \u001b[38;5;129;01min\u001b[39;00m \u001b[38;5;28mrange\u001b[39m(c1, c2 + M):\n\u001b[32m---> \u001b[39m\u001b[32m20\u001b[39m                 \u001b[43marr\u001b[49m\u001b[43m[\u001b[49m\u001b[43mr\u001b[49m\u001b[43m]\u001b[49m\u001b[43m[\u001b[49m\u001b[43mc\u001b[49m\u001b[43m]\u001b[49m = \u001b[32m0\u001b[39m\n\u001b[32m     22\u001b[39m \u001b[38;5;66;03m# for row in arr:\u001b[39;00m\n\u001b[32m     23\u001b[39m \u001b[38;5;66;03m#     print(*row)\u001b[39;00m\n",
      "\u001b[31mIndexError\u001b[39m: list assignment index out of range"
     ]
    }
   ],
   "source": [
    "N = 5\n",
    "M = 5\n",
    "# 0으로 채워진 NxM 배열을 생성\n",
    "arr = [[0] * N for _ in range(N)]\n",
    "\n",
    "# 모든 M*M 사각영역의 좌상단 좌표 생성\n",
    "for r1 in range(0, N-M + 1):\n",
    "    for c1 in range(0, N-M + 1):\n",
    "        # 좌상단(r1, c1), 너비/높이 = M\n",
    "        for r in range(r1, r1 + M):\n",
    "            for c in range(c1, c1 + M):\n",
    "                arr[r][c] = 1\n",
    "\n",
    "        for row in arr:\n",
    "            print(*row)\n",
    "        print('-'*10)\n",
    "\n",
    "        for r in range(r1, r1 + M):\n",
    "            for c in range(c1, c2 + M):\n",
    "                arr[r][c] = 0\n",
    "\n",
    "# for row in arr:\n",
    "#     print(*row)"
   ]
  }
 ],
 "metadata": {
  "kernelspec": {
   "display_name": "Python 3",
   "language": "python",
   "name": "python3"
  },
  "language_info": {
   "codemirror_mode": {
    "name": "ipython",
    "version": 3
   },
   "file_extension": ".py",
   "mimetype": "text/x-python",
   "name": "python",
   "nbconvert_exporter": "python",
   "pygments_lexer": "ipython3",
   "version": "3.11.9"
  }
 },
 "nbformat": 4,
 "nbformat_minor": 5
}
