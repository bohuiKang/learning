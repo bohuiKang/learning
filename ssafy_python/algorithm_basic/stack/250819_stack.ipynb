{
 "cells": [
  {
   "cell_type": "code",
   "execution_count": null,
   "id": "b2e90110",
   "metadata": {},
   "outputs": [
    {
     "name": "stdout",
     "output_type": "stream",
     "text": [
      "1 2 3 \n",
      "1 2 \n",
      "1 3 \n",
      "1 \n",
      "2 3 \n",
      "2 \n",
      "3 \n",
      "\n"
     ]
    }
   ],
   "source": [
    "def backtrack(a, k, n):  # a 주어진 배열, k 결정할 원소, n 원소 개수\n",
    "    c = [0] * MAXCANDIDATES # 후보군을 저장할 배열\n",
    "\n",
    "    if k == n:\n",
    "        process_solution(a, k)  # 답이면 원하는 작업을 한다\n",
    "    else: # 후보수 = 후보추천함수(a, k, n, c)\n",
    "        ncandidates = construct_candidates(a, k, n, c)\n",
    "        for i in range(ncandidates):\n",
    "            a[k] = c[i]\n",
    "            backtrack(a, k + 1, n)\n",
    "            \n",
    "def construct_candidates(a, k, n, c):   # 후보 추천천\n",
    "    c[0] = True                             # 원소의 포함 여부 \n",
    "    c[1] = False\n",
    "    return 2\n",
    "\n",
    "def process_solution(a, k):\n",
    "    for i in range(k):\n",
    "        if a[i]:\n",
    "            print(num[i], end = ' ')\n",
    "    print()\n",
    "\n",
    "MAXCANDIDATES = 2\n",
    "NMAX = 4\n",
    "a = [0] * NMAX\n",
    "num = [1,2,3,4]\n",
    "backtrack(a, 0, 3) # 3으로 되어 있어서 [1,2,3] 만 사용"
   ]
  },
  {
   "cell_type": "code",
   "execution_count": 2,
   "id": "b2d57db0",
   "metadata": {},
   "outputs": [
    {
     "name": "stdout",
     "output_type": "stream",
     "text": [
      "1 2 3 \n",
      "1 3 2 \n",
      "2 1 3 \n",
      "2 3 1 \n",
      "3 1 2 \n",
      "3 2 1 \n"
     ]
    }
   ],
   "source": [
    "def backtrack(a, k, n):\n",
    "    c = [0] * MAXCANDIDATES\n",
    "\n",
    "    if k == n:\n",
    "        for i in range(0, k):\n",
    "            print(a[i], end=\" \")\n",
    "        print()\n",
    "    else:\n",
    "        ncandidates = construct_candidates(a, k, n, c)\n",
    "        for i in range(ncandidates):\n",
    "            a[k] = c[i]\n",
    "            backtrack(a, k + 1, n)\n",
    "\n",
    "def construct_candidates(a, k, n, c):\n",
    "    in_perm = [False] * (NMAX + 1)\n",
    "\n",
    "    for i in range(k):\n",
    "        in_perm[a[i]] = True\n",
    "\n",
    "    ncandidates = 0\n",
    "    for i in range(1, NMAX + 1):\n",
    "        if in_perm[i] == False:\n",
    "            c[ncandidates] = i\n",
    "            ncandidates += 1\n",
    "    return ncandidates\n",
    "\n",
    "MAXCANDIDATES = 3\n",
    "NMAX = 3\n",
    "a = [0]*NMAX\n",
    "backtrack(a, 0, 3)\n"
   ]
  },
  {
   "cell_type": "code",
   "execution_count": 3,
   "id": "d58a2737",
   "metadata": {},
   "outputs": [
    {
     "name": "stdout",
     "output_type": "stream",
     "text": [
      "1 2047\n"
     ]
    }
   ],
   "source": [
    "def f(i, k, s, t):  # i원소, k 집합의 크기, s i-1까지 고려된 합, t목표\n",
    "    global cnt\n",
    "    global fcnt\n",
    "    fcnt += 1\n",
    "    if s > t:   # 고려한 원소의 합이 찾는 합보다 큰경우\n",
    "        return\n",
    "    elif s == t:    # 남은 원소를 고려할 필요가 없는 경우\n",
    "        cnt += 1\n",
    "        return\n",
    "    elif i == k:    # 모든원소 고려\n",
    "        return\n",
    "    else:\n",
    "        bit[i] = 1\n",
    "        f(i+1, k, s+A[i], t)    # A[i] 포함\n",
    "        bit[i] = 0\n",
    "        f(i+1, k, s, t)         # A[i] 미포함\n",
    "\n",
    "#A = [1,2,3,4,5,6,7,8,9,10]\n",
    "N = 10\n",
    "A = [ i for i in range(1, N+1)]\n",
    "\n",
    "key = 55\n",
    "cnt = 0\n",
    "bit = [0]*N\n",
    "fcnt = 0\n",
    "f(0,N,0,key)\n",
    "print(cnt, fcnt)      # 합이 key인 부분집합의 수"
   ]
  },
  {
   "cell_type": "code",
   "execution_count": null,
   "id": "d7427a04",
   "metadata": {},
   "outputs": [
    {
     "name": "stdout",
     "output_type": "stream",
     "text": [
      "[0, 0, 0]\n",
      "[0, 0, 1]\n",
      "[0, 1, 0]\n",
      "[0, 1, 1]\n",
      "[1, 0, 0]\n",
      "[1, 0, 1]\n",
      "[1, 1, 0]\n",
      "[1, 1, 1]\n",
      "[0, 0, 0]\n",
      "[0, 0, 1]\n",
      "[0, 1, 0]\n",
      "[0, 1, 1]\n",
      "[1, 0, 0]\n",
      "[1, 0, 1]\n",
      "[1, 1, 0]\n",
      "[1, 1, 1]\n"
     ]
    }
   ],
   "source": [
    "# 백트래킹 => 모든 후보해(가능한 경우)를 나열하기 위해\n",
    "# 모든 경우들이 부분집합, 순열, 조합과 관련이 있다.\n",
    "# 백트래킹은 부분집합의 상태 공간 트리를 그려보고 진행하자\n",
    "# 전체 집합의 크기가 N 일때, 어떤 원소가 부분집합에 포함되어 있는지 아닌지 결정\n",
    "# 전체 집합의 크기 = N,  N번 선택 => 트리 높이가 N\n",
    "\n",
    "# 선택지 => 2가지\n",
    "arr = ['A', 'B', 'C']\n",
    "N = len(arr)\n",
    "bits = [0] * N\n",
    "\n",
    "for i in range(2): # 0 or 1\n",
    "    bits[0] = i\n",
    "\n",
    "    for j in range(2):\n",
    "        bits[1] = j\n",
    "\n",
    "        for k in range(2):\n",
    "            bits[2] = k\n",
    "\n",
    "            print(bits)\n",
    "\n",
    "# 위와 아래는 같은 동작 코드\n",
    "\n",
    "def backtrack(k):\n",
    "    if k == N:\n",
    "        print(bits)\n",
    "    else:\n",
    "        # for i in range(2):\n",
    "        #     bits[k] = i\n",
    "        #     backtrack(k + 1)\n",
    "        bits[k] = 0\n",
    "        backtrack(k + 1)\n",
    "\n",
    "        bits[k] = 1\n",
    "        backtrack(k + 1)\n",
    "\n",
    "backtrack(0)"
   ]
  },
  {
   "cell_type": "code",
   "execution_count": null,
   "id": "73eb0427",
   "metadata": {},
   "outputs": [
    {
     "name": "stdout",
     "output_type": "stream",
     "text": [
      "A B C D\n",
      "A C B D\n",
      "A D C B\n",
      "B A C D\n",
      "B C A D\n",
      "B D C A\n",
      "C B A D\n",
      "C A B D\n",
      "C D A B\n",
      "D B C A\n",
      "D C B A\n",
      "D A C B\n"
     ]
    }
   ],
   "source": [
    "arr = ['A', 'B', 'C', 'D']\n",
    "N = len(arr)\n",
    "\n",
    "# 첫번째 위치 0\n",
    "for i in range(0, N):\n",
    "    arr[0], arr[i] = arr[i], arr[0]\n",
    "    # -------------------------------\n",
    "    for j in range(1, N):\n",
    "        arr[1], arr[j] = arr[j], arr[1]\n",
    "        # -------------------------------\n",
    "        for k in range(2, N):\n",
    "            arr[2], arr[k] = arr[k], arr[2]\n",
    "            print(*arr)\n",
    "            arr[2], arr[k] = arr[k], arr[2]\n",
    "        # -------------------------------\n",
    "        arr[1], arr[j] = arr[j], arr[1]\n",
    "    # -------------------------------\n",
    "    # 이전 상태로 돌려놔야 한다...?\n",
    "    arr[0], arr[i] = arr[i], arr[0]\n",
    "\n"
   ]
  },
  {
   "cell_type": "code",
   "execution_count": null,
   "id": "1871eb07",
   "metadata": {},
   "outputs": [],
   "source": [
    "# 재귀호출로 변경\n",
    "\n",
    "arr = ['A', 'B', 'C', 'D']\n",
    "N = len(arr)\n",
    "\n",
    "def backtrack(k):\n",
    "    if k == N:\n",
    "        print(*arr)\n",
    "    else:\n",
    "        for i in range(k, N):\n",
    "            arr[k], arr[i] = arr[i], arr[k]\n",
    "            # -------------------------------\n",
    "            # 재귀호출\n",
    "            backtrack(k + 1)\n",
    "            # -------------------------------\n",
    "            arr[k], arr[i] = arr[i], arr[k]\n",
    "\n",
    "backtrack(0)"
   ]
  }
 ],
 "metadata": {
  "kernelspec": {
   "display_name": "Python 3",
   "language": "python",
   "name": "python3"
  },
  "language_info": {
   "codemirror_mode": {
    "name": "ipython",
    "version": 3
   },
   "file_extension": ".py",
   "mimetype": "text/x-python",
   "name": "python",
   "nbconvert_exporter": "python",
   "pygments_lexer": "ipython3",
   "version": "3.11.9"
  }
 },
 "nbformat": 4,
 "nbformat_minor": 5
}
