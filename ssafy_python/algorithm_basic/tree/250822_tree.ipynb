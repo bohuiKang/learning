{
 "cells": [
  {
   "cell_type": "code",
   "execution_count": 7,
   "id": "b01d2cba",
   "metadata": {},
   "outputs": [
    {
     "name": "stdout",
     "output_type": "stream",
     "text": [
      "12 7 4 2 1 8 5 9 3 10 6 13 11 \n",
      "cnt: 13\n"
     ]
    }
   ],
   "source": [
    "# Tree\n",
    "'''\n",
    "# 정점 수 간선 수\n",
    "13 12\n",
    "1 2 1 3 2 4 3 5 3 6 4 7 5 8 5 9 6 10 6 11 7 12 11 13\n",
    "'''\n",
    "# 정점 V개, 간선 E개\n",
    "V, E = map(int, input().split())\n",
    "arr = list(map(int, input().split()))\n",
    "\n",
    "L = [0] * (V + 1) # 왼쪽 자식 저장\n",
    "R = [0] * (V + 1) # 오른쪽 자식 저장\n",
    "P = [0] * (V + 1) # 굳이 부모 정보를 저장할 필요는 없음\n",
    "\n",
    "for i in range(0, E * 2, 2):\n",
    "    parent, child = arr[i], arr[i + 1]\n",
    "    # parent를 인덱스로 사용\n",
    "    if L[parent] == 0:\n",
    "        L[parent] = child\n",
    "    else:\n",
    "        R[parent] = child\n",
    "    P[child] = parent\n",
    "\n",
    "\n",
    "# 순회 => 재귀 활용\n",
    "def tree_traverse(v): # 현재 위치해 있는 정점번호\n",
    "    global cnt\n",
    "    if v == 0:\n",
    "        return\n",
    "    # 1. 처음 진입했을 때\n",
    "    # print(v, end=' ') # => 전위 순회가 출력\n",
    "    tree_traverse(L[v]) # 왼쪽\n",
    "    # 2. 왼쪽 자식에서 돌아온 후\n",
    "    print(v, end=' ') # => 중위 순회가 출력\n",
    "    cnt += 1\n",
    "    tree_traverse(R[v]) # 오른쪽\n",
    "    # 3. 오른쪽에서 돌아온 후\n",
    "    # print(v, end=' ') # => 후위 순회가 출력\n",
    "\n",
    "cnt = 0\n",
    "tree_traverse(1) # root node 1번을 시작으로 ..\n",
    "print(f'\\ncnt: {cnt}')"
   ]
  },
  {
   "cell_type": "code",
   "execution_count": 5,
   "id": "24c1b2b9",
   "metadata": {},
   "outputs": [
    {
     "name": "stdout",
     "output_type": "stream",
     "text": [
      "1 2 4 7 12 12 12 7 7 4 4 2 2 1 3 5 8 8 8 5 9 9 9 5 3 6 10 10 10 6 11 13 13 13 11 11 6 3 1 "
     ]
    }
   ],
   "source": [
    "V, E = map(int, input().split())\n",
    "L = [0] * (V + 1)   # 왼쪽 자식 저장\n",
    "R = [0] * (V + 1)   # 오른쪽 자식 저장\n",
    "P = [0] * (V + 1)   # 부모 저장\n",
    "\n",
    "arr = list(map(int, input().split()))\n",
    "\n",
    "for i in range(0, E * 2, 2):\n",
    "    p, c = arr[i], arr[i + 1]\n",
    "    # p(부모)를 인덱스로 사용\n",
    "    if L[p] == 0:\n",
    "        L[p] = c\n",
    "    else:\n",
    "        R[p] = c\n",
    "    P[c] = p\n",
    "\n",
    "def inorder(v):\n",
    "    if v == 0:\n",
    "        return\n",
    "    \n",
    "    print(v, end=' ')\n",
    "    inorder(L[v])\n",
    "    print(v, end=' ')\n",
    "    inorder(R[v])\n",
    "    print(v, end=' ')\n",
    "\n",
    "inorder(1)\n"
   ]
  },
  {
   "cell_type": "code",
   "execution_count": 8,
   "id": "3637de64",
   "metadata": {},
   "outputs": [
    {
     "name": "stdout",
     "output_type": "stream",
     "text": [
      "4 1\n",
      "2 2\n",
      "5 3\n",
      "1 4\n",
      "6 5\n",
      "3 6\n"
     ]
    }
   ],
   "source": [
    "# 이진 탐색 트리\n",
    "N = 6\n",
    "#       0  1  2  3  4  5  6\n",
    "tree = [0, 4, 2, 6, 1, 3, 5]\n",
    "\n",
    "def inorder(v):\n",
    "    if v > N:\n",
    "        return\n",
    "    inorder(v * 2)\n",
    "    print(v, tree[v])\n",
    "    inorder(v * 2 + 1)\n",
    "\n",
    "inorder(1)"
   ]
  }
 ],
 "metadata": {
  "kernelspec": {
   "display_name": "Python 3",
   "language": "python",
   "name": "python3"
  },
  "language_info": {
   "codemirror_mode": {
    "name": "ipython",
    "version": 3
   },
   "file_extension": ".py",
   "mimetype": "text/x-python",
   "name": "python",
   "nbconvert_exporter": "python",
   "pygments_lexer": "ipython3",
   "version": "3.11.9"
  }
 },
 "nbformat": 4,
 "nbformat_minor": 5
}
